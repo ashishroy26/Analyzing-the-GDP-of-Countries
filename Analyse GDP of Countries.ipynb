{
 "cells": [
  {
   "cell_type": "markdown",
   "id": "361d15d1",
   "metadata": {},
   "source": [
    "Analyzing the GDP of Countries-\n",
    "\n",
    "Tasks-\n",
    "\n",
    "1)Find and print the name of the country with the highest GDP\n",
    "\n",
    "2)Find and print the name of the country with the lowest GDP\n",
    "\n",
    "3)Print out text and input values iteratively\n",
    "\n",
    "4)Print out the entire list of the countries with their GDPs\n",
    "\n",
    "5)Print the highest GDP value, lowest GDP value, mean GDP value, standardized GDP value, and the sum of all the GDPs\n",
    "\n"
   ]
  },
  {
   "cell_type": "code",
   "execution_count": 2,
   "id": "b4c0e2da",
   "metadata": {},
   "outputs": [],
   "source": [
    "import numpy as np"
   ]
  },
  {
   "cell_type": "code",
   "execution_count": 16,
   "id": "3b08a116",
   "metadata": {},
   "outputs": [],
   "source": [
    "\n",
    "Countries=np.array(['Algeria','Angola','Argentina','Australia','Austria','Bahamas','Bangladesh','Belarus','Belgium','Bhutan','Brazil','Bulgaria','Cambodia','Cameroon','Chile','China','Colombia','Cyprus','Denmark','El Salvador','Estonia','Ethiopia','Fiji','Finland','France','Georgia','Ghana','Grenada','Guinea','Haiti','Honduras','Hungary','India','Indonesia','Ireland','Italy','Japan','Kenya', 'South Korea','Liberia','Malaysia','Mexico', 'Morocco','Nepal','New Zealand','Norway','Pakistan', 'Peru','Qatar','Russia','Singapore','South Africa','Spain','Sweden','Switzerland','Thailand', 'United Arab Emirates','United Kingdom','United States','Uruguay','Venezuela','Vietnam','Zimbabwe'])\n",
    "\n",
    "\n",
    "\n",
    "GDP_per_capita = np.array([55.225482,629.9553062,11601.63022,25306.82494,27266.40335,19466.99052,588.3691778,2890.345675,24733.62696,1445.760002,4803.398244,2618.876037,590.4521124,665.7982328,7122.938458,2639.54156,3362.4656,15378.16704,30860.12808,2579.115607,6525.541272,229.6769525,2242.689259,27570.4852,23016.84778,1334.646773,402.6953275,6047.200797,394.1156638,385.5793827,1414.072488,5745.981529,837.7464011,1206.991065,27715.52837,18937.24998,39578.07441,478.2194906,16684.21278,279.2204061,5345.213415,6288.25324,1908.304416,274.8728621,14646.42094,40034.85063,672.1547506,3359.517402,36152.66676,3054.727742,33529.83052,3825.093781,15428.32098,33630.24604,39170.41371,2699.123242,21058.43643,28272.40661,37691.02733,9581.05659,5671.912202,757.4009286,347.7456605])"
   ]
  },
  {
   "cell_type": "code",
   "execution_count": 4,
   "id": "a92a9321",
   "metadata": {
    "scrolled": true
   },
   "outputs": [
    {
     "data": {
      "text/plain": [
       "(array(['Algeria', 'Angola', 'Argentina', 'Australia', 'Austria',\n",
       "        'Bahamas', 'Bangladesh', 'Belarus', 'Belgium', 'Bhutan', 'Brazil',\n",
       "        'Bulgaria', 'Cambodia', 'Cameroon', 'Chile', 'China', 'Colombia',\n",
       "        'Cyprus', 'Denmark', 'El Salvador', 'Estonia', 'Ethiopia', 'Fiji',\n",
       "        'Finland', 'France', 'Georgia', 'Ghana', 'Grenada', 'Guinea',\n",
       "        'Haiti', 'Honduras', 'Hungary', 'India', 'Indonesia', 'Ireland',\n",
       "        'Italy', 'Japan', 'Kenya', 'South Korea', 'Liberia', 'Malaysia',\n",
       "        'Mexico', 'Morocco', 'Nepal', 'New Zealand', 'Norway', 'Pakistan',\n",
       "        'Peru', 'Qatar', 'Russia', 'Singapore', 'South Africa', 'Spain',\n",
       "        'Sweden', 'Switzerland', 'Thailand', 'United Arab Emirates',\n",
       "        'United Kingdom', 'United States', 'Uruguay', 'Venezuela',\n",
       "        'Vietnam', 'Zimbabwe'], dtype='<U20'),\n",
       " array([   55.225482 ,   629.9553062, 11601.63022  , 25306.82494  ,\n",
       "        27266.40335  , 19466.99052  ,   588.3691778,  2890.345675 ,\n",
       "        24733.62696  ,  1445.760002 ,  4803.398244 ,  2618.876037 ,\n",
       "          590.4521124,   665.7982328,  7122.938458 ,  2639.54156  ,\n",
       "         3362.4656   , 15378.16704  , 30860.12808  ,  2579.115607 ,\n",
       "         6525.541272 ,   229.6769525,  2242.689259 , 27570.4852   ,\n",
       "        23016.84778  ,  1334.646773 ,   402.6953275,  6047.200797 ,\n",
       "          394.1156638,   385.5793827,  1414.072488 ,  5745.981529 ,\n",
       "          837.7464011,  1206.991065 , 27715.52837  , 18937.24998  ,\n",
       "        39578.07441  ,   478.2194906, 16684.21278  ,   279.2204061,\n",
       "         5345.213415 ,  6288.25324  ,  1908.304416 ,   274.8728621,\n",
       "        14646.42094  , 40034.85063  ,   672.1547506,  3359.517402 ,\n",
       "        36152.66676  ,  3054.727742 , 33529.83052  ,  3825.093781 ,\n",
       "        15428.32098  , 33630.24604  , 39170.41371  ,  2699.123242 ,\n",
       "        21058.43643  , 28272.40661  , 37691.02733  ,  9581.05659  ,\n",
       "         5671.912202 ,   757.4009286,   347.7456605]))"
      ]
     },
     "execution_count": 4,
     "metadata": {},
     "output_type": "execute_result"
    }
   ],
   "source": [
    "Countries, GDP_per_capita"
   ]
  },
  {
   "cell_type": "code",
   "execution_count": 5,
   "id": "a95403be",
   "metadata": {},
   "outputs": [
    {
     "name": "stdout",
     "output_type": "stream",
     "text": [
      "40034.85063\n"
     ]
    }
   ],
   "source": [
    "print(max(GDP_per_capita))"
   ]
  },
  {
   "cell_type": "code",
   "execution_count": 6,
   "id": "24599dc8",
   "metadata": {},
   "outputs": [
    {
     "data": {
      "text/plain": [
       "45"
      ]
     },
     "execution_count": 6,
     "metadata": {},
     "output_type": "execute_result"
    }
   ],
   "source": [
    "max_gdp_per_capita=GDP_per_capita.argmax()\n",
    "max_gdp_per_capita"
   ]
  },
  {
   "cell_type": "markdown",
   "id": "036cd020",
   "metadata": {},
   "source": [
    "## The name of the country with the highest GDP"
   ]
  },
  {
   "cell_type": "code",
   "execution_count": 7,
   "id": "1d1c7ac9",
   "metadata": {},
   "outputs": [],
   "source": [
    "highest_gdp_country=Countries[max_gdp_per_capita]"
   ]
  },
  {
   "cell_type": "code",
   "execution_count": 8,
   "id": "054c9ce2",
   "metadata": {},
   "outputs": [
    {
     "data": {
      "text/plain": [
       "'Norway'"
      ]
     },
     "execution_count": 8,
     "metadata": {},
     "output_type": "execute_result"
    }
   ],
   "source": [
    "highest_gdp_country"
   ]
  },
  {
   "cell_type": "code",
   "execution_count": 9,
   "id": "12780b4f",
   "metadata": {},
   "outputs": [
    {
     "name": "stdout",
     "output_type": "stream",
     "text": [
      "Country with the highest GDP is Norway\n"
     ]
    }
   ],
   "source": [
    "print(\"Country with the highest GDP is\",highest_gdp_country)"
   ]
  },
  {
   "cell_type": "markdown",
   "id": "fffd944c",
   "metadata": {},
   "source": [
    "## The name of the country with the lowest GDP"
   ]
  },
  {
   "cell_type": "code",
   "execution_count": 10,
   "id": "2fe83b98",
   "metadata": {},
   "outputs": [
    {
     "data": {
      "text/plain": [
       "0"
      ]
     },
     "execution_count": 10,
     "metadata": {},
     "output_type": "execute_result"
    }
   ],
   "source": [
    "lowest_gdp=GDP_per_capita.argmin()\n",
    "lowest_gdp"
   ]
  },
  {
   "cell_type": "code",
   "execution_count": 11,
   "id": "d6c7ece0",
   "metadata": {},
   "outputs": [
    {
     "data": {
      "text/plain": [
       "'Algeria'"
      ]
     },
     "execution_count": 11,
     "metadata": {},
     "output_type": "execute_result"
    }
   ],
   "source": [
    "lowest_gdp_country=Countries[lowest_gdp]\n",
    "lowest_gdp_country"
   ]
  },
  {
   "cell_type": "code",
   "execution_count": 12,
   "id": "3ac7320f",
   "metadata": {},
   "outputs": [
    {
     "name": "stdout",
     "output_type": "stream",
     "text": [
      "Country with lowest GDP is Algeria\n"
     ]
    }
   ],
   "source": [
    "print(\"Country with lowest GDP is\",lowest_gdp_country)"
   ]
  },
  {
   "cell_type": "code",
   "execution_count": 18,
   "id": "6a3db472",
   "metadata": {},
   "outputs": [
    {
     "name": "stdout",
     "output_type": "stream",
     "text": [
      "Algeria\n",
      "Angola\n",
      "Argentina\n",
      "Australia\n",
      "Austria\n",
      "Bahamas\n",
      "Bangladesh\n",
      "Belarus\n",
      "Belgium\n",
      "Bhutan\n",
      "Brazil\n",
      "Bulgaria\n",
      "Cambodia\n",
      "Cameroon\n",
      "Chile\n",
      "China\n",
      "Colombia\n",
      "Cyprus\n",
      "Denmark\n",
      "El Salvador\n",
      "Estonia\n",
      "Ethiopia\n",
      "Fiji\n",
      "Finland\n",
      "France\n",
      "Georgia\n",
      "Ghana\n",
      "Grenada\n",
      "Guinea\n",
      "Haiti\n",
      "Honduras\n",
      "Hungary\n",
      "India\n",
      "Indonesia\n",
      "Ireland\n",
      "Italy\n",
      "Japan\n",
      "Kenya\n",
      "South Korea\n",
      "Liberia\n",
      "Malaysia\n",
      "Mexico\n",
      "Morocco\n",
      "Nepal\n",
      "New Zealand\n",
      "Norway\n",
      "Pakistan\n",
      "Peru\n",
      "Qatar\n",
      "Russia\n",
      "Singapore\n",
      "South Africa\n",
      "Spain\n",
      "Sweden\n",
      "Switzerland\n",
      "Thailand\n",
      "United Arab Emirates\n",
      "United Kingdom\n",
      "United States\n",
      "Uruguay\n",
      "Venezuela\n",
      "Vietnam\n",
      "Zimbabwe\n"
     ]
    }
   ],
   "source": [
    " for country in Countries:\n",
    "    print(format(country))  #Printing out text and input values iteratively"
   ]
  },
  {
   "cell_type": "markdown",
   "id": "5a1cce59",
   "metadata": {},
   "source": [
    "Printing out the entire list of the countries with their GDPs"
   ]
  },
  {
   "cell_type": "code",
   "execution_count": 24,
   "id": "c91d1b08",
   "metadata": {},
   "outputs": [
    {
     "name": "stdout",
     "output_type": "stream",
     "text": [
      "Country Algeria per capita GDP is 55.225482\n",
      "Country Angola per capita GDP is 629.9553062\n",
      "Country Argentina per capita GDP is 11601.63022\n",
      "Country Australia per capita GDP is 25306.82494\n",
      "Country Austria per capita GDP is 27266.40335\n",
      "Country Bahamas per capita GDP is 19466.99052\n",
      "Country Bangladesh per capita GDP is 588.3691778\n",
      "Country Belarus per capita GDP is 2890.345675\n",
      "Country Belgium per capita GDP is 24733.62696\n",
      "Country Bhutan per capita GDP is 1445.760002\n",
      "Country Brazil per capita GDP is 4803.398244\n",
      "Country Bulgaria per capita GDP is 2618.876037\n",
      "Country Cambodia per capita GDP is 590.4521124\n",
      "Country Cameroon per capita GDP is 665.7982328\n",
      "Country Chile per capita GDP is 7122.938458\n",
      "Country China per capita GDP is 2639.54156\n",
      "Country Colombia per capita GDP is 3362.4656\n",
      "Country Cyprus per capita GDP is 15378.16704\n",
      "Country Denmark per capita GDP is 30860.12808\n",
      "Country El Salvador per capita GDP is 2579.115607\n",
      "Country Estonia per capita GDP is 6525.541272\n",
      "Country Ethiopia per capita GDP is 229.6769525\n",
      "Country Fiji per capita GDP is 2242.689259\n",
      "Country Finland per capita GDP is 27570.4852\n",
      "Country France per capita GDP is 23016.84778\n",
      "Country Georgia per capita GDP is 1334.646773\n",
      "Country Ghana per capita GDP is 402.6953275\n",
      "Country Grenada per capita GDP is 6047.200797\n",
      "Country Guinea per capita GDP is 394.1156638\n",
      "Country Haiti per capita GDP is 385.5793827\n",
      "Country Honduras per capita GDP is 1414.072488\n",
      "Country Hungary per capita GDP is 5745.981529\n",
      "Country India per capita GDP is 837.7464011\n",
      "Country Indonesia per capita GDP is 1206.991065\n",
      "Country Ireland per capita GDP is 27715.52837\n",
      "Country Italy per capita GDP is 18937.24998\n",
      "Country Japan per capita GDP is 39578.07441\n",
      "Country Kenya per capita GDP is 478.2194906\n",
      "Country South Korea per capita GDP is 16684.21278\n",
      "Country Liberia per capita GDP is 279.2204061\n",
      "Country Malaysia per capita GDP is 5345.213415\n",
      "Country Mexico per capita GDP is 6288.25324\n",
      "Country Morocco per capita GDP is 1908.304416\n",
      "Country Nepal per capita GDP is 274.8728621\n",
      "Country New Zealand per capita GDP is 14646.42094\n",
      "Country Norway per capita GDP is 40034.85063\n",
      "Country Pakistan per capita GDP is 672.1547506\n",
      "Country Peru per capita GDP is 3359.517402\n",
      "Country Qatar per capita GDP is 36152.66676\n",
      "Country Russia per capita GDP is 3054.727742\n",
      "Country Singapore per capita GDP is 33529.83052\n",
      "Country South Africa per capita GDP is 3825.093781\n",
      "Country Spain per capita GDP is 15428.32098\n",
      "Country Sweden per capita GDP is 33630.24604\n",
      "Country Switzerland per capita GDP is 39170.41371\n",
      "Country Thailand per capita GDP is 2699.123242\n",
      "Country United Arab Emirates per capita GDP is 21058.43643\n",
      "Country United Kingdom per capita GDP is 28272.40661\n",
      "Country United States per capita GDP is 37691.02733\n",
      "Country Uruguay per capita GDP is 9581.05659\n",
      "Country Venezuela per capita GDP is 5671.912202\n",
      "Country Vietnam per capita GDP is 757.4009286\n",
      "Country Zimbabwe per capita GDP is 347.7456605\n"
     ]
    }
   ],
   "source": [
    "for i in range(len(Countries)):\n",
    "    country = Countries[i]\n",
    "    country_gdp_per_capita = GDP_per_capita[i]\n",
    "    print(\"Country {} per capita GDP is {}\".format(country, country_gdp_per_capita))"
   ]
  },
  {
   "cell_type": "markdown",
   "id": "4e81e745",
   "metadata": {},
   "source": [
    "Printing the highest GDP value, lowest GDP value, mean GDP value, standardized GDP value, and the sum of all the GDPs\n"
   ]
  },
  {
   "cell_type": "code",
   "execution_count": 29,
   "id": "e90fcf67",
   "metadata": {},
   "outputs": [
    {
     "name": "stdout",
     "output_type": "stream",
     "text": [
      "Highest GDP value is  40034.85063\n",
      "Lowest GDP value is  55.225482\n",
      "Mean GDP value is  11254.488636719048\n",
      "Standardized GDP value is  12771.52066580295\n",
      "Sum of all the GDP's is  709032.7841133\n"
     ]
    }
   ],
   "source": [
    "print(\"Highest GDP value is \",GDP_per_capita.max())\n",
    "print(\"Lowest GDP value is \",GDP_per_capita.min())\n",
    "print(\"Mean GDP value is \",GDP_per_capita.mean())\n",
    "print(\"Standardized GDP value is \",GDP_per_capita.std())\n",
    "print(\"Sum of all the GDP's is \",GDP_per_capita.sum())"
   ]
  },
  {
   "cell_type": "code",
   "execution_count": null,
   "id": "405bf792",
   "metadata": {},
   "outputs": [],
   "source": []
  }
 ],
 "metadata": {
  "kernelspec": {
   "display_name": "Python 3",
   "language": "python",
   "name": "python3"
  },
  "language_info": {
   "codemirror_mode": {
    "name": "ipython",
    "version": 3
   },
   "file_extension": ".py",
   "mimetype": "text/x-python",
   "name": "python",
   "nbconvert_exporter": "python",
   "pygments_lexer": "ipython3",
   "version": "3.8.8"
  }
 },
 "nbformat": 4,
 "nbformat_minor": 5
}
